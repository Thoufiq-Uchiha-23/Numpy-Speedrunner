{
 "cells": [
  {
   "cell_type": "code",
   "execution_count": 1,
   "id": "ebc891ab-d7ee-43b5-84bc-1a30a8825c79",
   "metadata": {},
   "outputs": [],
   "source": [
    "import numpy as np"
   ]
  },
  {
   "cell_type": "code",
   "execution_count": 3,
   "id": "6be10f12-4191-41fc-b560-21f76dd8ad29",
   "metadata": {},
   "outputs": [],
   "source": [
    "data = np.random.rand(2, 3, 4)"
   ]
  },
  {
   "cell_type": "code",
   "execution_count": 5,
   "id": "7e8be29f-0873-4e98-831f-64ab4bc5739b",
   "metadata": {},
   "outputs": [
    {
     "data": {
      "text/plain": [
       "array([[[0.86843472, 0.41753253, 0.37900799, 0.5388874 ],\n",
       "        [0.29232526, 0.34695843, 0.84447158, 0.2044927 ],\n",
       "        [0.153723  , 0.9407167 , 0.60822087, 0.6987026 ]],\n",
       "\n",
       "       [[0.70953459, 0.34268929, 0.45198957, 0.51546617],\n",
       "        [0.79632619, 0.53905645, 0.63847504, 0.28087951],\n",
       "        [0.39582395, 0.97041984, 0.17172915, 0.00625582]]])"
      ]
     },
     "execution_count": 5,
     "metadata": {},
     "output_type": "execute_result"
    }
   ],
   "source": [
    "data"
   ]
  },
  {
   "cell_type": "code",
   "execution_count": 9,
   "id": "95dedd26-bb4c-4fdd-bf82-d2dcaa088b61",
   "metadata": {},
   "outputs": [],
   "source": [
    "zeroes = np.zeros((2,2,2))\n",
    "full = np.full((2,2,2), 7)\n",
    "ones = np.ones((2, 2, 2))"
   ]
  },
  {
   "cell_type": "code",
   "execution_count": 11,
   "id": "fecd5203-2e8c-4d42-aa05-1323a0f5cc00",
   "metadata": {},
   "outputs": [
    {
     "data": {
      "text/plain": [
       "array([[[0.86843472, 0.41753253, 0.37900799, 0.5388874 ],\n",
       "        [0.29232526, 0.34695843, 0.84447158, 0.2044927 ],\n",
       "        [0.153723  , 0.9407167 , 0.60822087, 0.6987026 ]],\n",
       "\n",
       "       [[0.70953459, 0.34268929, 0.45198957, 0.51546617],\n",
       "        [0.79632619, 0.53905645, 0.63847504, 0.28087951],\n",
       "        [0.39582395, 0.97041984, 0.17172915, 0.00625582]]])"
      ]
     },
     "execution_count": 11,
     "metadata": {},
     "output_type": "execute_result"
    }
   ],
   "source": [
    "data"
   ]
  },
  {
   "cell_type": "code",
   "execution_count": 13,
   "id": "f2d6b3b0-7476-40fd-9a76-c45d90404ae5",
   "metadata": {},
   "outputs": [
    {
     "data": {
      "text/plain": [
       "array([[[0., 0.],\n",
       "        [0., 0.]],\n",
       "\n",
       "       [[0., 0.],\n",
       "        [0., 0.]]])"
      ]
     },
     "execution_count": 13,
     "metadata": {},
     "output_type": "execute_result"
    }
   ],
   "source": [
    "zeroes"
   ]
  },
  {
   "cell_type": "code",
   "execution_count": 15,
   "id": "83b1d851-908f-44f2-81a3-eeb87cb5a046",
   "metadata": {},
   "outputs": [
    {
     "data": {
      "text/plain": [
       "array([[[7, 7],\n",
       "        [7, 7]],\n",
       "\n",
       "       [[7, 7],\n",
       "        [7, 7]]])"
      ]
     },
     "execution_count": 15,
     "metadata": {},
     "output_type": "execute_result"
    }
   ],
   "source": [
    "full"
   ]
  },
  {
   "cell_type": "code",
   "execution_count": 17,
   "id": "312e2e5e-8d80-44e4-8d7a-268edfcd45d3",
   "metadata": {},
   "outputs": [
    {
     "data": {
      "text/plain": [
       "array([[[1., 1.],\n",
       "        [1., 1.]],\n",
       "\n",
       "       [[1., 1.],\n",
       "        [1., 1.]]])"
      ]
     },
     "execution_count": 17,
     "metadata": {},
     "output_type": "execute_result"
    }
   ],
   "source": [
    "ones"
   ]
  },
  {
   "cell_type": "code",
   "execution_count": 19,
   "id": "312bddfa-9762-4a91-a35c-df9ea30a4d22",
   "metadata": {},
   "outputs": [],
   "source": [
    "arr =- np.array([[1,2,3,4],[1,2,3,4]])"
   ]
  },
  {
   "cell_type": "code",
   "execution_count": 23,
   "id": "139f5197-1662-4922-bc2a-1572755a4151",
   "metadata": {},
   "outputs": [
    {
     "data": {
      "text/plain": [
       "array([[-1, -2, -3, -4],\n",
       "       [-1, -2, -3, -4]])"
      ]
     },
     "execution_count": 23,
     "metadata": {},
     "output_type": "execute_result"
    }
   ],
   "source": [
    "arr"
   ]
  },
  {
   "cell_type": "code",
   "execution_count": 25,
   "id": "35cb16bf-e35c-45ef-85fe-f0ac4bd8b1de",
   "metadata": {},
   "outputs": [
    {
     "data": {
      "text/plain": [
       "numpy.ndarray"
      ]
     },
     "execution_count": 25,
     "metadata": {},
     "output_type": "execute_result"
    }
   ],
   "source": [
    "type(arr)"
   ]
  },
  {
   "cell_type": "code",
   "execution_count": 27,
   "id": "7474101f-3128-451f-ab85-8dea51463540",
   "metadata": {},
   "outputs": [],
   "source": [
    "#Read"
   ]
  },
  {
   "cell_type": "code",
   "execution_count": 29,
   "id": "49bc4020-fe8a-4ff0-adc9-5c16bb8e872d",
   "metadata": {},
   "outputs": [],
   "source": [
    "#Attrtibutes\n",
    "shape = data.shape\n",
    "size = data.size\n",
    "types = data.dtype"
   ]
  },
  {
   "cell_type": "code",
   "execution_count": 31,
   "id": "99910be8-1236-44ca-a2b2-bdda30c773e4",
   "metadata": {},
   "outputs": [
    {
     "data": {
      "text/plain": [
       "(2, 3, 4)"
      ]
     },
     "execution_count": 31,
     "metadata": {},
     "output_type": "execute_result"
    }
   ],
   "source": [
    "shape"
   ]
  },
  {
   "cell_type": "code",
   "execution_count": 33,
   "id": "34c5b00c-c876-46d3-993c-e993f0a1c841",
   "metadata": {},
   "outputs": [
    {
     "data": {
      "text/plain": [
       "24"
      ]
     },
     "execution_count": 33,
     "metadata": {},
     "output_type": "execute_result"
    }
   ],
   "source": [
    "size"
   ]
  },
  {
   "cell_type": "code",
   "execution_count": 37,
   "id": "9bacc749-e3f6-468f-a656-e03dff60c850",
   "metadata": {},
   "outputs": [
    {
     "data": {
      "text/plain": [
       "dtype('float64')"
      ]
     },
     "execution_count": 37,
     "metadata": {},
     "output_type": "execute_result"
    }
   ],
   "source": [
    "types"
   ]
  },
  {
   "cell_type": "code",
   "execution_count": 39,
   "id": "db476f91-1b2e-49d2-a74f-838d7a5ef33f",
   "metadata": {},
   "outputs": [
    {
     "data": {
      "text/plain": [
       "array([[[0.86843472, 0.41753253, 0.37900799, 0.5388874 ],\n",
       "        [0.29232526, 0.34695843, 0.84447158, 0.2044927 ],\n",
       "        [0.153723  , 0.9407167 , 0.60822087, 0.6987026 ]],\n",
       "\n",
       "       [[0.70953459, 0.34268929, 0.45198957, 0.51546617],\n",
       "        [0.79632619, 0.53905645, 0.63847504, 0.28087951],\n",
       "        [0.39582395, 0.97041984, 0.17172915, 0.00625582]]])"
      ]
     },
     "execution_count": 39,
     "metadata": {},
     "output_type": "execute_result"
    }
   ],
   "source": [
    "data"
   ]
  },
  {
   "cell_type": "code",
   "execution_count": 41,
   "id": "a2af6ebd-b87a-426c-a079-f775e6e4f852",
   "metadata": {},
   "outputs": [],
   "source": [
    "# Slicing\n",
    "arr = data[0]\n",
    "slicer = data[0:2]\n",
    "reverse = data[-1]\n",
    "singleval = data[0][0][0]"
   ]
  },
  {
   "cell_type": "code",
   "execution_count": 43,
   "id": "ec2703ea-ccd1-4b83-aa1a-643e9db47e24",
   "metadata": {},
   "outputs": [
    {
     "data": {
      "text/plain": [
       "array([[0.86843472, 0.41753253, 0.37900799, 0.5388874 ],\n",
       "       [0.29232526, 0.34695843, 0.84447158, 0.2044927 ],\n",
       "       [0.153723  , 0.9407167 , 0.60822087, 0.6987026 ]])"
      ]
     },
     "execution_count": 43,
     "metadata": {},
     "output_type": "execute_result"
    }
   ],
   "source": [
    "arr"
   ]
  },
  {
   "cell_type": "code",
   "execution_count": 45,
   "id": "f387bc45-3923-40b2-b299-f67ccd135038",
   "metadata": {},
   "outputs": [
    {
     "data": {
      "text/plain": [
       "array([[[0.86843472, 0.41753253, 0.37900799, 0.5388874 ],\n",
       "        [0.29232526, 0.34695843, 0.84447158, 0.2044927 ],\n",
       "        [0.153723  , 0.9407167 , 0.60822087, 0.6987026 ]],\n",
       "\n",
       "       [[0.70953459, 0.34268929, 0.45198957, 0.51546617],\n",
       "        [0.79632619, 0.53905645, 0.63847504, 0.28087951],\n",
       "        [0.39582395, 0.97041984, 0.17172915, 0.00625582]]])"
      ]
     },
     "execution_count": 45,
     "metadata": {},
     "output_type": "execute_result"
    }
   ],
   "source": [
    "slicer"
   ]
  },
  {
   "cell_type": "code",
   "execution_count": 47,
   "id": "b0b3740d-3d5b-4b65-bcd1-7de268c883ea",
   "metadata": {},
   "outputs": [
    {
     "data": {
      "text/plain": [
       "array([[0.70953459, 0.34268929, 0.45198957, 0.51546617],\n",
       "       [0.79632619, 0.53905645, 0.63847504, 0.28087951],\n",
       "       [0.39582395, 0.97041984, 0.17172915, 0.00625582]])"
      ]
     },
     "execution_count": 47,
     "metadata": {},
     "output_type": "execute_result"
    }
   ],
   "source": [
    "reverse"
   ]
  },
  {
   "cell_type": "code",
   "execution_count": 51,
   "id": "7ded6d96-3916-4424-9723-e22a2275b282",
   "metadata": {},
   "outputs": [
    {
     "data": {
      "text/plain": [
       "0.868434717690912"
      ]
     },
     "execution_count": 51,
     "metadata": {},
     "output_type": "execute_result"
    }
   ],
   "source": [
    "singleval"
   ]
  },
  {
   "cell_type": "code",
   "execution_count": 53,
   "id": "12b03c52-6f23-4ec1-a6da-eb380bfe92c7",
   "metadata": {},
   "outputs": [],
   "source": [
    "# Update"
   ]
  },
  {
   "cell_type": "code",
   "execution_count": 55,
   "id": "66759b29-9724-4ff1-96f1-a75463f8834e",
   "metadata": {},
   "outputs": [],
   "source": [
    "list1 = np.random.rand(10)\n",
    "list2 = np.random.rand(10)"
   ]
  },
  {
   "cell_type": "code",
   "execution_count": 57,
   "id": "041d4c49-24a2-461d-8c3f-e9fd1aae5ebc",
   "metadata": {},
   "outputs": [
    {
     "data": {
      "text/plain": [
       "array([0.02311863, 0.67913526, 0.60800919, 0.71184649, 0.53150128,\n",
       "       0.23722001, 0.54919304, 0.93711915, 0.74323255, 0.17449446])"
      ]
     },
     "execution_count": 57,
     "metadata": {},
     "output_type": "execute_result"
    }
   ],
   "source": [
    "list1"
   ]
  },
  {
   "cell_type": "code",
   "execution_count": 59,
   "id": "1b0ef161-d114-4de6-b2ed-3847b22a5b37",
   "metadata": {},
   "outputs": [
    {
     "data": {
      "text/plain": [
       "array([0.45801584, 0.73834057, 0.83047971, 0.614136  , 0.17354964,\n",
       "       0.15910315, 0.25080522, 0.29156241, 0.0433524 , 0.49748277])"
      ]
     },
     "execution_count": 59,
     "metadata": {},
     "output_type": "execute_result"
    }
   ],
   "source": [
    "list2"
   ]
  },
  {
   "cell_type": "code",
   "execution_count": 73,
   "id": "1928ab40-b271-4448-ae8d-6be7213bff68",
   "metadata": {},
   "outputs": [],
   "source": [
    "# Basic Math\n",
    "add = np.add(list1, list2)\n",
    "sub = np.subtract(list1, list2)\n",
    "div = np.divide(list1, list2)\n",
    "mult = np.multiply(list1, list2)\n",
    "dot = np.dot(list1, list2)"
   ]
  },
  {
   "cell_type": "code",
   "execution_count": 65,
   "id": "e0b37543-5f8c-47ee-a612-9ef0e8cb9d62",
   "metadata": {},
   "outputs": [
    {
     "data": {
      "text/plain": [
       "array([0.48113447, 1.41747583, 1.4384889 , 1.3259825 , 0.70505091,\n",
       "       0.39632316, 0.79999826, 1.22868155, 0.78658495, 0.67197723])"
      ]
     },
     "execution_count": 65,
     "metadata": {},
     "output_type": "execute_result"
    }
   ],
   "source": [
    "add"
   ]
  },
  {
   "cell_type": "code",
   "execution_count": 67,
   "id": "e672302e-ad04-4057-9515-49824ce1214b",
   "metadata": {},
   "outputs": [
    {
     "data": {
      "text/plain": [
       "array([-0.43489721, -0.05920531, -0.22247052,  0.09771049,  0.35795164,\n",
       "        0.07811686,  0.29838782,  0.64555674,  0.69988015, -0.32298831])"
      ]
     },
     "execution_count": 67,
     "metadata": {},
     "output_type": "execute_result"
    }
   ],
   "source": [
    "sub"
   ]
  },
  {
   "cell_type": "code",
   "execution_count": 69,
   "id": "019eb869-0508-4759-811d-3c57a42606de",
   "metadata": {},
   "outputs": [
    {
     "data": {
      "text/plain": [
       "array([0.0105887 , 0.50143312, 0.5049393 , 0.43717056, 0.09224185,\n",
       "       0.03774245, 0.13774048, 0.27322872, 0.03222091, 0.08680799])"
      ]
     },
     "execution_count": 69,
     "metadata": {},
     "output_type": "execute_result"
    }
   ],
   "source": [
    "div"
   ]
  },
  {
   "cell_type": "code",
   "execution_count": 75,
   "id": "1ee45770-623e-4ff3-be30-0d58680917c4",
   "metadata": {},
   "outputs": [
    {
     "data": {
      "text/plain": [
       "array([0.0105887 , 0.50143312, 0.5049393 , 0.43717056, 0.09224185,\n",
       "       0.03774245, 0.13774048, 0.27322872, 0.03222091, 0.08680799])"
      ]
     },
     "execution_count": 75,
     "metadata": {},
     "output_type": "execute_result"
    }
   ],
   "source": [
    "mult"
   ]
  },
  {
   "cell_type": "code",
   "execution_count": 77,
   "id": "fa3828b5-99c1-444b-b3f2-ec3f009fb326",
   "metadata": {},
   "outputs": [
    {
     "data": {
      "text/plain": [
       "2.1141140791113955"
      ]
     },
     "execution_count": 77,
     "metadata": {},
     "output_type": "execute_result"
    }
   ],
   "source": [
    "dot"
   ]
  },
  {
   "cell_type": "code",
   "execution_count": 81,
   "id": "990d4e4f-9266-4d85-979b-2256c18fcf87",
   "metadata": {},
   "outputs": [],
   "source": [
    "# Stat Functions\n",
    "sqrt = np.sqrt(25)\n",
    "ab = np.abs(-2)\n",
    "power = np.power(2, 7)\n",
    "log = np.log(25)\n",
    "exp = np.exp((2, 3))\n",
    "mins = np.min(list1)\n",
    "maxs = np.max(list1)"
   ]
  },
  {
   "cell_type": "code",
   "execution_count": 83,
   "id": "264ca87e-d40f-4729-a38a-4b06298cde43",
   "metadata": {},
   "outputs": [
    {
     "data": {
      "text/plain": [
       "5.0"
      ]
     },
     "execution_count": 83,
     "metadata": {},
     "output_type": "execute_result"
    }
   ],
   "source": [
    "sqrt"
   ]
  },
  {
   "cell_type": "code",
   "execution_count": 85,
   "id": "60882c2f-648f-44ef-b7c8-d8d081896eb0",
   "metadata": {},
   "outputs": [
    {
     "data": {
      "text/plain": [
       "2"
      ]
     },
     "execution_count": 85,
     "metadata": {},
     "output_type": "execute_result"
    }
   ],
   "source": [
    "ab"
   ]
  },
  {
   "cell_type": "code",
   "execution_count": 87,
   "id": "6d35c062-85ce-4050-9da5-ac998eee204a",
   "metadata": {},
   "outputs": [
    {
     "data": {
      "text/plain": [
       "128"
      ]
     },
     "execution_count": 87,
     "metadata": {},
     "output_type": "execute_result"
    }
   ],
   "source": [
    "power"
   ]
  },
  {
   "cell_type": "code",
   "execution_count": 89,
   "id": "129b727b-cacb-4497-801a-2e8e354a42d3",
   "metadata": {},
   "outputs": [
    {
     "data": {
      "text/plain": [
       "3.2188758248682006"
      ]
     },
     "execution_count": 89,
     "metadata": {},
     "output_type": "execute_result"
    }
   ],
   "source": [
    "log"
   ]
  },
  {
   "cell_type": "code",
   "execution_count": 91,
   "id": "7b548dee-5331-4370-a8a8-21725a9dd3d9",
   "metadata": {},
   "outputs": [
    {
     "data": {
      "text/plain": [
       "array([ 7.3890561 , 20.08553692])"
      ]
     },
     "execution_count": 91,
     "metadata": {},
     "output_type": "execute_result"
    }
   ],
   "source": [
    "exp"
   ]
  },
  {
   "cell_type": "code",
   "execution_count": 93,
   "id": "ea774010-ee87-4161-b1da-9424ae8a8c39",
   "metadata": {},
   "outputs": [
    {
     "data": {
      "text/plain": [
       "0.023118627359501542"
      ]
     },
     "execution_count": 93,
     "metadata": {},
     "output_type": "execute_result"
    }
   ],
   "source": [
    "mins"
   ]
  },
  {
   "cell_type": "code",
   "execution_count": 95,
   "id": "81506bc5-d28c-452b-b39f-2869ce9bf735",
   "metadata": {},
   "outputs": [
    {
     "data": {
      "text/plain": [
       "0.9371191458812252"
      ]
     },
     "execution_count": 95,
     "metadata": {},
     "output_type": "execute_result"
    }
   ],
   "source": [
    "maxs"
   ]
  },
  {
   "cell_type": "code",
   "execution_count": 97,
   "id": "8cde51c6-a70b-41e6-a030-08c7ffff1c2b",
   "metadata": {},
   "outputs": [
    {
     "data": {
      "text/plain": [
       "array([[[0.86843472, 0.41753253, 0.37900799, 0.5388874 ],\n",
       "        [0.29232526, 0.34695843, 0.84447158, 0.2044927 ],\n",
       "        [0.153723  , 0.9407167 , 0.60822087, 0.6987026 ]],\n",
       "\n",
       "       [[0.70953459, 0.34268929, 0.45198957, 0.51546617],\n",
       "        [0.79632619, 0.53905645, 0.63847504, 0.28087951],\n",
       "        [0.39582395, 0.97041984, 0.17172915, 0.00625582]]])"
      ]
     },
     "execution_count": 97,
     "metadata": {},
     "output_type": "execute_result"
    }
   ],
   "source": [
    "data"
   ]
  },
  {
   "cell_type": "code",
   "execution_count": 99,
   "id": "c56085f2-c640-456c-a9e1-7de36e68588f",
   "metadata": {},
   "outputs": [],
   "source": [
    "data[0][0][0] = 700"
   ]
  },
  {
   "cell_type": "code",
   "execution_count": 101,
   "id": "ba23dabc-833c-4c2b-8c63-b9e3cc84f6d6",
   "metadata": {},
   "outputs": [
    {
     "data": {
      "text/plain": [
       "array([[[7.00000000e+02, 4.17532530e-01, 3.79007990e-01, 5.38887397e-01],\n",
       "        [2.92325257e-01, 3.46958434e-01, 8.44471583e-01, 2.04492704e-01],\n",
       "        [1.53722996e-01, 9.40716704e-01, 6.08220870e-01, 6.98702598e-01]],\n",
       "\n",
       "       [[7.09534592e-01, 3.42689289e-01, 4.51989572e-01, 5.15466172e-01],\n",
       "        [7.96326189e-01, 5.39056450e-01, 6.38475039e-01, 2.80879510e-01],\n",
       "        [3.95823948e-01, 9.70419842e-01, 1.71729148e-01, 6.25582016e-03]]])"
      ]
     },
     "execution_count": 101,
     "metadata": {},
     "output_type": "execute_result"
    }
   ],
   "source": [
    "data"
   ]
  },
  {
   "cell_type": "code",
   "execution_count": 103,
   "id": "f1f8f01b-3561-4443-a2aa-effc0d24dc50",
   "metadata": {},
   "outputs": [],
   "source": [
    "data.sort()"
   ]
  },
  {
   "cell_type": "code",
   "execution_count": 105,
   "id": "a32c2a79-7b68-4b70-bd4a-5522b86298de",
   "metadata": {},
   "outputs": [
    {
     "data": {
      "text/plain": [
       "array([[[3.79007990e-01, 4.17532530e-01, 5.38887397e-01, 7.00000000e+02],\n",
       "        [2.04492704e-01, 2.92325257e-01, 3.46958434e-01, 8.44471583e-01],\n",
       "        [1.53722996e-01, 6.08220870e-01, 6.98702598e-01, 9.40716704e-01]],\n",
       "\n",
       "       [[3.42689289e-01, 4.51989572e-01, 5.15466172e-01, 7.09534592e-01],\n",
       "        [2.80879510e-01, 5.39056450e-01, 6.38475039e-01, 7.96326189e-01],\n",
       "        [6.25582016e-03, 1.71729148e-01, 3.95823948e-01, 9.70419842e-01]]])"
      ]
     },
     "execution_count": 105,
     "metadata": {},
     "output_type": "execute_result"
    }
   ],
   "source": [
    "data"
   ]
  },
  {
   "cell_type": "code",
   "execution_count": 107,
   "id": "029e6f1b-d179-45c4-ae46-3c3eee1b27b5",
   "metadata": {},
   "outputs": [
    {
     "data": {
      "text/plain": [
       "(2, 2, 6)"
      ]
     },
     "execution_count": 107,
     "metadata": {},
     "output_type": "execute_result"
    }
   ],
   "source": [
    "data = data.reshape(2,2,-1)\n",
    "data.shape"
   ]
  },
  {
   "cell_type": "code",
   "execution_count": 109,
   "id": "4330c600-092c-4fa5-92bd-570aed0974ab",
   "metadata": {},
   "outputs": [
    {
     "name": "stdout",
     "output_type": "stream",
     "text": [
      "[0. 0. 0. 0. 0. 0. 0. 0.]\n",
      "[0. 0. 0. 0. 0. 0. 0. 0. 3. 4.]\n"
     ]
    }
   ],
   "source": [
    "zeroes = np.zeros((8))\n",
    "print(zeroes)\n",
    "zeroes = np.append(zeroes, [3,4])\n",
    "print(zeroes)"
   ]
  },
  {
   "cell_type": "code",
   "execution_count": 111,
   "id": "6ba606a6-e652-46d4-a0a4-a1bc5190eb78",
   "metadata": {},
   "outputs": [
    {
     "name": "stdout",
     "output_type": "stream",
     "text": [
      "[0. 0. 1. 0. 0. 0. 0. 0. 0. 3. 4.]\n"
     ]
    }
   ],
   "source": [
    "zeroes = np.insert(zeroes, 2, 1)\n",
    "print(zeroes)"
   ]
  },
  {
   "cell_type": "code",
   "execution_count": 113,
   "id": "b106b7b4-2399-4ec9-b3c2-bfd77e0b4bf2",
   "metadata": {},
   "outputs": [
    {
     "data": {
      "text/plain": [
       "array([[[3.79007990e-01, 4.17532530e-01, 5.38887397e-01, 7.00000000e+02,\n",
       "         2.04492704e-01, 2.92325257e-01],\n",
       "        [3.46958434e-01, 8.44471583e-01, 1.53722996e-01, 6.08220870e-01,\n",
       "         6.98702598e-01, 9.40716704e-01]],\n",
       "\n",
       "       [[3.42689289e-01, 4.51989572e-01, 5.15466172e-01, 7.09534592e-01,\n",
       "         2.80879510e-01, 5.39056450e-01],\n",
       "        [6.38475039e-01, 7.96326189e-01, 6.25582016e-03, 1.71729148e-01,\n",
       "         3.95823948e-01, 9.70419842e-01]]])"
      ]
     },
     "execution_count": 113,
     "metadata": {},
     "output_type": "execute_result"
    }
   ],
   "source": [
    "data"
   ]
  },
  {
   "cell_type": "code",
   "execution_count": 117,
   "id": "64f60ed6-f8a2-431d-8b58-961072672972",
   "metadata": {},
   "outputs": [
    {
     "data": {
      "text/plain": [
       "array([[[0.34695843, 0.84447158, 0.153723  , 0.60822087, 0.6987026 ,\n",
       "         0.9407167 ]],\n",
       "\n",
       "       [[0.63847504, 0.79632619, 0.00625582, 0.17172915, 0.39582395,\n",
       "         0.97041984]]])"
      ]
     },
     "execution_count": 117,
     "metadata": {},
     "output_type": "execute_result"
    }
   ],
   "source": [
    "np.delete(data, 0 , axis= 1)"
   ]
  },
  {
   "cell_type": "code",
   "execution_count": 119,
   "id": "819e59aa-ae66-41d6-977d-e55519a83b8b",
   "metadata": {},
   "outputs": [],
   "source": [
    "np.save(\"new array\", data)"
   ]
  },
  {
   "cell_type": "code",
   "execution_count": 121,
   "id": "332d2e8d-a06d-43c1-a503-bf078a6d41b5",
   "metadata": {},
   "outputs": [],
   "source": [
    "test = np.load(\"new array.npy\")"
   ]
  },
  {
   "cell_type": "code",
   "execution_count": 123,
   "id": "0a20cdea-fa16-40e4-8dc9-fb71b22e4565",
   "metadata": {},
   "outputs": [
    {
     "data": {
      "text/plain": [
       "array([[[3.79007990e-01, 4.17532530e-01, 5.38887397e-01, 7.00000000e+02,\n",
       "         2.04492704e-01, 2.92325257e-01],\n",
       "        [3.46958434e-01, 8.44471583e-01, 1.53722996e-01, 6.08220870e-01,\n",
       "         6.98702598e-01, 9.40716704e-01]],\n",
       "\n",
       "       [[3.42689289e-01, 4.51989572e-01, 5.15466172e-01, 7.09534592e-01,\n",
       "         2.80879510e-01, 5.39056450e-01],\n",
       "        [6.38475039e-01, 7.96326189e-01, 6.25582016e-03, 1.71729148e-01,\n",
       "         3.95823948e-01, 9.70419842e-01]]])"
      ]
     },
     "execution_count": 123,
     "metadata": {},
     "output_type": "execute_result"
    }
   ],
   "source": [
    "test"
   ]
  },
  {
   "cell_type": "code",
   "execution_count": null,
   "id": "a422f513-a1bf-4d0c-913b-d70c395a7ec2",
   "metadata": {},
   "outputs": [],
   "source": []
  }
 ],
 "metadata": {
  "kernelspec": {
   "display_name": "Python 3 (ipykernel)",
   "language": "python",
   "name": "python3"
  },
  "language_info": {
   "codemirror_mode": {
    "name": "ipython",
    "version": 3
   },
   "file_extension": ".py",
   "mimetype": "text/x-python",
   "name": "python",
   "nbconvert_exporter": "python",
   "pygments_lexer": "ipython3",
   "version": "3.12.4"
  }
 },
 "nbformat": 4,
 "nbformat_minor": 5
}
